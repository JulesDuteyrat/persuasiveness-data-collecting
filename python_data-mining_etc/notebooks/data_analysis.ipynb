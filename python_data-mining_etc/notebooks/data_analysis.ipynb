{
 "cells": [
  {
   "cell_type": "markdown",
   "metadata": {},
   "source": [
    "Here we will try to see what type of activity corelates most with low attention rates"
   ]
  },
  {
   "cell_type": "code",
   "execution_count": 66,
   "metadata": {},
   "outputs": [],
   "source": [
    "import pandas as pd\n",
    "import numpy as np\n",
    "import os"
   ]
  },
  {
   "cell_type": "code",
   "execution_count": 50,
   "metadata": {},
   "outputs": [],
   "source": [
    "def get_csv_data(path_logs, path_csv):\n",
    "    data = pd.read_csv(path_csv, sep='\\t')\n",
    "    dfs = []\n",
    "    for dirname, _, filenames in os.walk(path_logs):\n",
    "        for filename in filenames:\n",
    "            if filename.endswith('.csv'):\n",
    "                file_path = os.path.join(dirname, filename).replace('\\\\', '/')\n",
    "                df = pd.read_csv(file_path,sep=' ')\n",
    "                \n",
    "                row = data.loc[data['log_id'] == int(filename[:-4])] # https://stackoverflow.com/questions/17071871/how-do-i-select-rows-from-a-dataframe-based-on-column-values\n",
    "                # print(row)\n",
    "                arr = row.values.tolist()\n",
    "                arr.append(df)\n",
    "                dfs.append(arr)\n",
    "    return dfs"
   ]
  },
  {
   "cell_type": "code",
   "execution_count": 51,
   "metadata": {},
   "outputs": [],
   "source": [
    "dfs = get_csv_data('../the-attentive-cursor-dataset/logs', '../the-attentive-cursor-dataset/groundtruth.tsv')"
   ]
  },
  {
   "cell_type": "code",
   "execution_count": 63,
   "metadata": {},
   "outputs": [
    {
     "name": "stdout",
     "output_type": "stream",
     "text": [
      "Attention score :  5\n",
      "log_id :  20161214224444\n"
     ]
    }
   ],
   "source": [
    "print(\"Attention score : \",dfs[0][0][2])\n",
    "print(\"log_id : \",dfs[0][0][3])\n",
    "# print(\"actions dataframe : \",dfs[0][1])"
   ]
  },
  {
   "cell_type": "code",
   "execution_count": 74,
   "metadata": {},
   "outputs": [
    {
     "name": "stdout",
     "output_type": "stream",
     "text": [
      "size of the dataset :  2909\n"
     ]
    }
   ],
   "source": [
    "print(\"size of the dataset : \",len(dfs))\n",
    "\n",
    "#count the number of values for each attention score\n",
    "attention_scores = []\n",
    "for i in range(len(dfs)):\n",
    "    attention_scores.append(dfs[i][0][2])\n",
    "count_attention_scores =np.bincount(attention_scores)"
   ]
  },
  {
   "cell_type": "code",
   "execution_count": 75,
   "metadata": {},
   "outputs": [
    {
     "data": {
      "text/plain": [
       "<BarContainer object of 6 artists>"
      ]
     },
     "execution_count": 75,
     "metadata": {},
     "output_type": "execute_result"
    },
    {
     "data": {
      "image/png": "[encoded data removed]",
      "text/plain": [
       "<Figure size 432x288 with 1 Axes>"
      ]
     },
     "metadata": {
      "needs_background": "light"
     },
     "output_type": "display_data"
    }
   ],
   "source": [
    "import matplotlib.pyplot as plt\n",
    "\n",
    "#bar plot of attention score\n",
    "plt.bar(range(len(count_attention_scores)), count_attention_scores)"
   ]
  },
  {
   "cell_type": "code",
   "execution_count": 77,
   "metadata": {},
   "outputs": [
    {
     "name": "stdout",
     "output_type": "stream",
     "text": [
      "scroll          61\n",
      "mousemove       22\n",
      "mouseover        9\n",
      "mousedown        6\n",
      "mouseup          5\n",
      "blur             3\n",
      "focus            3\n",
      "click            2\n",
      "load             1\n",
      "contextmenu      1\n",
      "beforeunload     1\n",
      "unload           1\n",
      "Name: event, dtype: int64\n"
     ]
    }
   ],
   "source": [
    "print(dfs[0][1]['event'].value_counts())"
   ]
  },
  {
   "cell_type": "code",
   "execution_count": 80,
   "metadata": {},
   "outputs": [
    {
     "name": "stdout",
     "output_type": "stream",
     "text": [
      "beforeunload   NaN\n",
      "blur           NaN\n",
      "click          NaN\n",
      "contextmenu    NaN\n",
      "copy           NaN\n",
      "focus          NaN\n",
      "keydown        NaN\n",
      "keyup          NaN\n",
      "load           NaN\n",
      "mousedown      NaN\n",
      "mousemove      NaN\n",
      "mouseover      NaN\n",
      "mouseup        NaN\n",
      "resize         NaN\n",
      "scroll         NaN\n",
      "select         NaN\n",
      "touchend       NaN\n",
      "touchmove      NaN\n",
      "touchstart     NaN\n",
      "unload         NaN\n",
      "dtype: float64\n"
     ]
    }
   ],
   "source": [
    "# sum_event_counts = pd.Series([])\n",
    "for i in range(len(dfs)):\n",
    "    sum_event_counts = sum_event_counts + dfs[i][1]['event'].value_counts()\n",
    "print(sum_event_counts)"
   ]
  }
 ],
 "metadata": {
  "interpreter": {
   "hash": "63fd5069d213b44bf678585dea6b12cceca9941eaf7f819626cde1f2670de90d"
  },
  "kernelspec": {
   "display_name": "Python 3.9.5 64-bit",
   "language": "python",
   "name": "python3"
  },
  "language_info": {
   "codemirror_mode": {
    "name": "ipython",
    "version": 3
   },
   "file_extension": ".py",
   "mimetype": "text/x-python",
   "name": "python",
   "nbconvert_exporter": "python",
   "pygments_lexer": "ipython3",
   "version": "3.9.5"
  },
  "orig_nbformat": 4
 },
 "nbformat": 4,
 "nbformat_minor": 2
}
