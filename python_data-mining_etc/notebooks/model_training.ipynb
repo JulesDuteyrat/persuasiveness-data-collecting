{
 "cells": [
  {
   "cell_type": "code",
   "execution_count": 1,
   "metadata": {},
   "outputs": [],
   "source": [
    "import numpy as np\n",
    "import pandas as pd\n",
    "import tensorflow as tf\n",
    "from tensorflow import keras\n",
    "import os"
   ]
  },
  {
   "cell_type": "code",
   "execution_count": null,
   "metadata": {},
   "outputs": [],
   "source": [
    "def get_csv_data(path_logs, path_csv):\n",
    "    data = pd.read_csv(path_csv, sep='\\t')\n",
    "    dfs = []\n",
    "    for dirname, _, filenames in os.walk(path_logs):\n",
    "        for filename in filenames:\n",
    "            if filename.endswith('.csv'):\n",
    "                file_path = os.path.join(dirname, filename).replace('\\\\', '/')\n",
    "                df = pd.read_csv(file_path,sep=' ')\n",
    "                \n",
    "                row = data.loc[data['log_id'] == int(filename[:-4])] # https://stackoverflow.com/questions/17071871/how-do-i-select-rows-from-a-dataframe-based-on-column-values\n",
    "                # print(row)\n",
    "                arr = row.values.tolist()\n",
    "                arr.append(df)\n",
    "                dfs.append(arr)\n",
    "    return dfs"
   ]
  },
  {
   "cell_type": "code",
   "execution_count": null,
   "metadata": {},
   "outputs": [],
   "source": [
    "dfs = get_csv_data('../the-attentive-cursor-dataset/logs', '../the-attentive-cursor-dataset/groundtruth.tsv')"
   ]
  },
  {
   "cell_type": "code",
   "execution_count": null,
   "metadata": {},
   "outputs": [],
   "source": [
    "cleandf = [] #note + liste des inputs\n",
    "for row in range(len(dfs)):\n",
    "    cleandf.append([dfs[row][0][2],dfs[row][1]['event'].value_counts()])"
   ]
  },
  {
   "cell_type": "code",
   "execution_count": null,
   "metadata": {},
   "outputs": [],
   "source": [
    "\n",
    "tab = np.array(cleandf, dtype='object')\n",
    "for row in tab :\n",
    "    for input in ['mouseup','focus','load','beforeunload','unload','touchend'] : #liste arbitraire des actions à enlever\n",
    "        if input in row[1].keys() :\n",
    "            row[1].pop(input)\n",
    "\n",
    "#liste des actions à conserver\n",
    "all_inputs = []\n",
    "for row in tab :\n",
    "    for input in row[1].keys() :\n",
    "        if input not in all_inputs :\n",
    "            all_inputs.append(input)\n",
    "all_inputs.sort()\n",
    "print(all_inputs)"
   ]
  },
  {
   "cell_type": "code",
   "execution_count": null,
   "metadata": {},
   "outputs": [],
   "source": [
    "#normalisation v1 (mieux que la v2)\n",
    "\"\"\"\n",
    "for input in all_inputs :\n",
    "    tmp = []\n",
    "    for row in tab :\n",
    "        if input in row[1].keys() :\n",
    "            tmp.append(row[1].get(input))\n",
    "    mean = np.mean(tmp)\n",
    "    for row in tab :\n",
    "        if input in row[1].keys() :\n",
    "            row[1][input] = row[1][input]/mean\n",
    "\n",
    "print(tab)\n",
    "\"\"\"\n",
    "#normalisation v3\n",
    "\"\"\"\n",
    "for input in all_inputs :\n",
    "    max = 0\n",
    "    for row in tab :\n",
    "        if input in row[1].keys() :\n",
    "            if row[1].get(input) > max :\n",
    "                max = row[1].get(input)\n",
    "    for row in tab :\n",
    "        if input in row[1].keys() :\n",
    "            row[1][input] = row[1][input]/max\n",
    "\"\"\""
   ]
  },
  {
   "cell_type": "code",
   "execution_count": null,
   "metadata": {},
   "outputs": [
    {
     "name": "stdout",
     "output_type": "stream",
     "text": [
      "[[0.44852941 0.0990991  0.17647059 ... 0.         0.         0.        ]\n",
      " [0.05147059 0.04054054 0.05882353 ... 0.         0.         0.        ]\n",
      " [0.08088235 0.17567568 0.05882353 ... 0.         0.         0.        ]\n",
      " ...\n",
      " [0.13970588 0.04954955 0.17647059 ... 0.         0.         0.        ]\n",
      " [0.14705882 0.09459459 0.15686275 ... 0.         0.         0.        ]\n",
      " [0.03676471 0.03603604 0.07843137 ... 0.         0.         0.        ]]\n"
     ]
    }
   ],
   "source": [
    "tmp_all_x = [] #stock temporairement les données d'entrées\n",
    "tmp_all_y = [] #stock temporairement les données de sortie\n",
    "\n",
    "for row in tab :\n",
    "    tmp_all_x.append([])\n",
    "    for input in all_inputs :\n",
    "        if input in row[1].keys() :\n",
    "            tmp_all_x[len(tmp_all_x)-1].append(row[1].get(input))\n",
    "        else :\n",
    "            tmp_all_x[len(tmp_all_x)-1].append(0)\n",
    "    tmp_all_y.append(row[0])\n",
    "\n",
    "all_x = np.array(tmp_all_x) #données en entrée du modèle\n",
    "all_y = np.array(tmp_all_y) #données en sortie du modèle\n",
    "print(all_x)"
   ]
  },
  {
   "cell_type": "code",
   "execution_count": null,
   "metadata": {},
   "outputs": [
    {
     "data": {
      "text/plain": [
       "'\\ni = 0\\nbad_rows = []\\nfor row in range(len(all_x)) :\\n    for element in all_x[row] :\\n        if element > 5 :\\n            i +=1\\n            bad_rows.append(row)\\n            continue\\n\\nall_x = np.delete(all_x,bad_rows, axis=0)\\nprint(all_x)\\n'"
      ]
     },
     "execution_count": 119,
     "metadata": {},
     "output_type": "execute_result"
    }
   ],
   "source": [
    "#normalisation v2 (la v1 est un peu mieux)\n",
    "\"\"\"\n",
    "for i in range(len(all_inputs)) :\n",
    "    print(i)\n",
    "    tmp = []\n",
    "    for row in all_x :\n",
    "        tmp.append(row[i])\n",
    "    mean = np.mean(tmp)\n",
    "    for row in all_x :\n",
    "        row[i] = row[i]/mean\n",
    "    \n",
    "print(all_x)\n",
    "\"\"\"\n",
    "\n",
    "#enlevage des données extrèmes (faire une normalisation avant)\n",
    "\"\"\"\n",
    "i = 0\n",
    "bad_rows = []\n",
    "for row in range(len(all_x)) :\n",
    "    for element in all_x[row] :\n",
    "        if element > 5 :\n",
    "            i +=1\n",
    "            bad_rows.append(row)\n",
    "            continue\n",
    "\n",
    "all_x = np.delete(all_x,bad_rows, axis=0)\n",
    "print(all_x)\n",
    "\"\"\""
   ]
  },
  {
   "cell_type": "code",
   "execution_count": null,
   "metadata": {},
   "outputs": [],
   "source": [
    "\n",
    "inputs = keras.Input(shape=(len(all_inputs),))\n",
    "x = tf.keras.layers.Dense(1, activation=tf.nn.relu)(inputs)\n",
    "outputs = tf.keras.layers.Dense(6, activation=tf.nn.softmax)(x)\n",
    "\n",
    "model = keras.Model(inputs=inputs, outputs = outputs)\n",
    "\n",
    "model.compile(\n",
    "    loss=keras.losses.SparseCategoricalCrossentropy(from_logits=True),\n",
    "    optimizer=keras.optimizers.RMSprop(),\n",
    "    metrics=[\"accuracy\"],\n",
    ")\n",
    "\n"
   ]
  },
  {
   "cell_type": "code",
   "execution_count": null,
   "metadata": {},
   "outputs": [
    {
     "name": "stdout",
     "output_type": "stream",
     "text": [
      "Epoch 1/20\n",
      "82/82 [==============================] - 1s 2ms/step - loss: 1.7859 - accuracy: 0.2983 - val_loss: 1.7800 - val_accuracy: 0.2612\n",
      "Epoch 2/20\n",
      "82/82 [==============================] - 0s 1ms/step - loss: 1.7754 - accuracy: 0.2926 - val_loss: 1.7685 - val_accuracy: 0.2680\n",
      "Epoch 3/20\n",
      "82/82 [==============================] - 0s 1ms/step - loss: 1.7638 - accuracy: 0.2953 - val_loss: 1.7562 - val_accuracy: 0.2680\n",
      "Epoch 4/20\n",
      "82/82 [==============================] - 0s 1ms/step - loss: 1.7517 - accuracy: 0.2953 - val_loss: 1.7440 - val_accuracy: 0.2612\n",
      "Epoch 5/20\n",
      "82/82 [==============================] - 0s 1ms/step - loss: 1.7399 - accuracy: 0.2956 - val_loss: 1.7326 - val_accuracy: 0.2612\n",
      "Epoch 6/20\n",
      "82/82 [==============================] - 0s 1ms/step - loss: 1.7285 - accuracy: 0.2960 - val_loss: 1.7216 - val_accuracy: 0.2612\n",
      "Epoch 7/20\n",
      "82/82 [==============================] - 0s 1ms/step - loss: 1.7181 - accuracy: 0.2960 - val_loss: 1.7116 - val_accuracy: 0.2577\n",
      "Epoch 8/20\n",
      "82/82 [==============================] - 0s 1ms/step - loss: 1.7083 - accuracy: 0.2956 - val_loss: 1.7018 - val_accuracy: 0.2577\n",
      "Epoch 9/20\n",
      "82/82 [==============================] - 0s 1ms/step - loss: 1.6998 - accuracy: 0.2956 - val_loss: 1.6928 - val_accuracy: 0.2612\n",
      "Epoch 10/20\n",
      "82/82 [==============================] - 0s 1ms/step - loss: 1.6920 - accuracy: 0.2956 - val_loss: 1.6840 - val_accuracy: 0.2612\n",
      "Epoch 11/20\n",
      "82/82 [==============================] - 0s 1ms/step - loss: 1.6850 - accuracy: 0.2956 - val_loss: 1.6755 - val_accuracy: 0.2612\n",
      "Epoch 12/20\n",
      "82/82 [==============================] - 0s 1ms/step - loss: 1.6783 - accuracy: 0.2983 - val_loss: 1.6667 - val_accuracy: 0.3162\n",
      "Epoch 13/20\n",
      "82/82 [==============================] - 0s 1ms/step - loss: 1.6725 - accuracy: 0.3380 - val_loss: 1.6595 - val_accuracy: 0.3780\n",
      "Epoch 14/20\n",
      "82/82 [==============================] - 0s 1ms/step - loss: 1.6677 - accuracy: 0.3640 - val_loss: 1.6531 - val_accuracy: 0.4227\n",
      "Epoch 15/20\n",
      "82/82 [==============================] - 0s 1ms/step - loss: 1.6635 - accuracy: 0.3709 - val_loss: 1.6470 - val_accuracy: 0.4261\n",
      "Epoch 16/20\n",
      "82/82 [==============================] - 0s 1ms/step - loss: 1.6602 - accuracy: 0.3709 - val_loss: 1.6422 - val_accuracy: 0.4261\n",
      "Epoch 17/20\n",
      "82/82 [==============================] - 0s 1ms/step - loss: 1.6574 - accuracy: 0.3701 - val_loss: 1.6378 - val_accuracy: 0.4261\n",
      "Epoch 18/20\n",
      "82/82 [==============================] - 0s 1ms/step - loss: 1.6552 - accuracy: 0.3697 - val_loss: 1.6342 - val_accuracy: 0.4261\n",
      "Epoch 19/20\n",
      "82/82 [==============================] - 0s 1ms/step - loss: 1.6536 - accuracy: 0.3697 - val_loss: 1.6319 - val_accuracy: 0.4261\n",
      "Epoch 20/20\n",
      "82/82 [==============================] - 0s 1ms/step - loss: 1.6525 - accuracy: 0.3697 - val_loss: 1.6301 - val_accuracy: 0.4261\n"
     ]
    }
   ],
   "source": [
    "history = model.fit(all_x, all_y, epochs=20, validation_split=0.1)"
   ]
  }
 ],
 "metadata": {
  "interpreter": {
   "hash": "26de051ba29f2982a8de78e945f0abaf191376122a1563185a90213a26c5da77"
  },
  "kernelspec": {
   "display_name": "Python 3.10.4 64-bit",
   "language": "python",
   "name": "python3"
  },
  "language_info": {
   "codemirror_mode": {
    "name": "ipython",
    "version": 3
   },
   "file_extension": ".py",
   "mimetype": "text/x-python",
   "name": "python",
   "nbconvert_exporter": "python",
   "pygments_lexer": "ipython3",
   "version": "3.10.4"
  },
  "orig_nbformat": 4
 },
 "nbformat": 4,
 "nbformat_minor": 2
}
