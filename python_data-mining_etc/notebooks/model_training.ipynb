{
 "cells": [
  {
   "cell_type": "code",
   "execution_count": 39,
   "metadata": {},
   "outputs": [],
   "source": [
    "import numpy as np\n",
    "import pandas as pd\n",
    "import tensorflow as tf\n",
    "from tensorflow import keras\n",
    "import os"
   ]
  },
  {
   "cell_type": "code",
   "execution_count": 40,
   "metadata": {},
   "outputs": [],
   "source": [
    "def get_csv_data(path_logs, path_csv):\n",
    "    data = pd.read_csv(path_csv, sep='\\t')\n",
    "    dfs = []\n",
    "    for dirname, _, filenames in os.walk(path_logs):\n",
    "        for filename in filenames:\n",
    "            if filename.endswith('.csv'):\n",
    "                file_path = os.path.join(dirname, filename).replace('\\\\', '/')\n",
    "                df = pd.read_csv(file_path,sep=' ')\n",
    "                \n",
    "                row = data.loc[data['log_id'] == int(filename[:-4])] # https://stackoverflow.com/questions/17071871/how-do-i-select-rows-from-a-dataframe-based-on-column-values\n",
    "                # print(row)\n",
    "                arr = row.values.tolist()\n",
    "                arr.append(df)\n",
    "                dfs.append(arr)\n",
    "    return dfs"
   ]
  },
  {
   "cell_type": "code",
   "execution_count": 41,
   "metadata": {},
   "outputs": [],
   "source": [
    "dfs = get_csv_data('../the-attentive-cursor-dataset/logs', '../the-attentive-cursor-dataset/groundtruth.tsv')"
   ]
  },
  {
   "cell_type": "code",
   "execution_count": 42,
   "metadata": {},
   "outputs": [],
   "source": [
    "cleandf = [] #note + liste des inputs\n",
    "for row in range(len(dfs)):\n",
    "    cleandf.append([dfs[row][0][2],dfs[row][1]['event'].value_counts()])"
   ]
  },
  {
   "cell_type": "code",
   "execution_count": 43,
   "metadata": {},
   "outputs": [],
   "source": [
    "tab = np.array(cleandf, dtype='object')\n",
    "for row in tab :\n",
    "    for input in ['mouseup','focus','load','beforeunload','unload','touchend'] : #liste arbitraire des actions à enlever\n",
    "        if input in row[1].keys() :\n",
    "            row[1].pop(input)\n",
    "\n",
    "#liste des actions à conserver\n",
    "all_inputs = []\n",
    "for row in tab :\n",
    "    for input in row[1].keys() :\n",
    "        if input not in all_inputs :\n",
    "            all_inputs.append(input)"
   ]
  },
  {
   "cell_type": "code",
   "execution_count": 46,
   "metadata": {},
   "outputs": [
    {
     "name": "stdout",
     "output_type": "stream",
     "text": [
      "[[61 22  9 ...  0  0  0]\n",
      " [ 7  9  3 ...  0  0  0]\n",
      " [11 39  3 ...  0  0  0]\n",
      " ...\n",
      " [ 0  8  4 ...  0  0  0]\n",
      " [ 0  8  2 ...  0  0  0]\n",
      " [ 0  4  2 ...  0  0  0]]\n"
     ]
    }
   ],
   "source": [
    "tmp_all_x = [] #stock temporairement les données d'entrées\n",
    "tmp_all_y = [] #stock temporairement les données de sortie\n",
    "\n",
    "for row in tab :\n",
    "    tmp_all_x.append([])\n",
    "    for input in all_inputs :\n",
    "        if input in row[1].keys() :\n",
    "            tmp_all_x[len(tmp_all_x)-1].append(row[1].get(input))\n",
    "        else :\n",
    "            tmp_all_x[len(tmp_all_x)-1].append(0)\n",
    "    tmp_all_y.append(row[0])\n",
    "\n",
    "all_x = np.array(tmp_all_x) #données en entrée du modèle\n",
    "all_y = np.array(tmp_all_y) #données en sortie du modèle\n",
    "print(all_x)"
   ]
  },
  {
   "cell_type": "code",
   "execution_count": 45,
   "metadata": {},
   "outputs": [
    {
     "name": "stdout",
     "output_type": "stream",
     "text": [
      "Epoch 1/20\n",
      "279/279 [==============================] - 3s 5ms/step - loss: 1.6825 - accuracy: 0.3683 - val_loss: 1.6656 - val_accuracy: 0.3548\n",
      "Epoch 2/20\n",
      "279/279 [==============================] - 1s 3ms/step - loss: 1.6659 - accuracy: 0.3640 - val_loss: 1.6481 - val_accuracy: 0.3548\n",
      "Epoch 3/20\n",
      "279/279 [==============================] - 1s 4ms/step - loss: 1.6612 - accuracy: 0.3640 - val_loss: 1.6468 - val_accuracy: 0.3548\n",
      "Epoch 4/20\n",
      "279/279 [==============================] - 1s 3ms/step - loss: 1.6574 - accuracy: 0.3690 - val_loss: 1.6454 - val_accuracy: 0.3484\n",
      "Epoch 5/20\n",
      "279/279 [==============================] - 1s 3ms/step - loss: 1.6554 - accuracy: 0.3597 - val_loss: 1.6392 - val_accuracy: 0.3806\n",
      "Epoch 6/20\n",
      "279/279 [==============================] - 1s 3ms/step - loss: 1.6538 - accuracy: 0.3618 - val_loss: 1.6383 - val_accuracy: 0.3742\n",
      "Epoch 7/20\n",
      "279/279 [==============================] - 1s 3ms/step - loss: 1.6531 - accuracy: 0.3640 - val_loss: 1.6373 - val_accuracy: 0.3742\n",
      "Epoch 8/20\n",
      "279/279 [==============================] - 1s 3ms/step - loss: 1.6520 - accuracy: 0.3625 - val_loss: 1.6376 - val_accuracy: 0.3677\n",
      "Epoch 9/20\n",
      "279/279 [==============================] - 1s 3ms/step - loss: 1.6505 - accuracy: 0.3661 - val_loss: 1.6377 - val_accuracy: 0.3677\n",
      "Epoch 10/20\n",
      "279/279 [==============================] - 1s 4ms/step - loss: 1.6503 - accuracy: 0.3618 - val_loss: 1.6375 - val_accuracy: 0.3613\n",
      "Epoch 11/20\n",
      "279/279 [==============================] - 1s 4ms/step - loss: 1.6497 - accuracy: 0.3632 - val_loss: 1.6383 - val_accuracy: 0.3613\n",
      "Epoch 12/20\n",
      "279/279 [==============================] - 1s 4ms/step - loss: 1.6499 - accuracy: 0.3676 - val_loss: 1.6399 - val_accuracy: 0.3161\n",
      "Epoch 13/20\n",
      "279/279 [==============================] - 1s 4ms/step - loss: 1.6498 - accuracy: 0.3582 - val_loss: 1.6387 - val_accuracy: 0.3226\n",
      "Epoch 14/20\n",
      "279/279 [==============================] - 1s 4ms/step - loss: 1.6490 - accuracy: 0.3640 - val_loss: 1.6393 - val_accuracy: 0.3290\n",
      "Epoch 15/20\n",
      "279/279 [==============================] - 1s 4ms/step - loss: 1.6494 - accuracy: 0.3661 - val_loss: 1.6375 - val_accuracy: 0.3742\n",
      "Epoch 16/20\n",
      "279/279 [==============================] - 1s 5ms/step - loss: 1.6483 - accuracy: 0.3697 - val_loss: 1.6385 - val_accuracy: 0.3355\n",
      "Epoch 17/20\n",
      "279/279 [==============================] - 1s 4ms/step - loss: 1.6485 - accuracy: 0.3640 - val_loss: 1.6381 - val_accuracy: 0.3806\n",
      "Epoch 18/20\n",
      "279/279 [==============================] - 1s 3ms/step - loss: 1.6489 - accuracy: 0.3654 - val_loss: 1.6377 - val_accuracy: 0.3613\n",
      "Epoch 19/20\n",
      "279/279 [==============================] - 1s 3ms/step - loss: 1.6483 - accuracy: 0.3733 - val_loss: 1.6377 - val_accuracy: 0.3677\n",
      "Epoch 20/20\n",
      "279/279 [==============================] - 1s 3ms/step - loss: 1.6484 - accuracy: 0.3719 - val_loss: 1.6392 - val_accuracy: 0.3226\n"
     ]
    }
   ],
   "source": [
    "inputs = keras.Input(shape=(len(all_inputs),))\n",
    "x = tf.keras.layers.Dense(4, activation=tf.nn.relu)(inputs)\n",
    "outputs = tf.keras.layers.Dense(6, activation=tf.nn.softmax)(x)\n",
    "\n",
    "model = keras.Model(inputs=inputs, outputs = outputs)\n",
    "\n",
    "model.compile(\n",
    "    loss=keras.losses.SparseCategoricalCrossentropy(from_logits=True),\n",
    "    optimizer=keras.optimizers.RMSprop(),\n",
    "    metrics=[\"accuracy\"],\n",
    ")\n",
    "\n",
    "history = model.fit(all_x, all_y, batch_size=5, epochs=20, validation_split=0.1)"
   ]
  }
 ],
 "metadata": {
  "interpreter": {
   "hash": "2be5faf79681da6f2a61fdfdd5405d65d042280f7fba6178067603e3a2925119"
  },
  "kernelspec": {
   "display_name": "Python 3.10.4 64-bit",
   "language": "python",
   "name": "python3"
  },
  "language_info": {
   "codemirror_mode": {
    "name": "ipython",
    "version": 3
   },
   "file_extension": ".py",
   "mimetype": "text/x-python",
   "name": "python",
   "nbconvert_exporter": "python",
   "pygments_lexer": "ipython3",
   "version": "3.10.4"
  },
  "orig_nbformat": 4
 },
 "nbformat": 4,
 "nbformat_minor": 2
}
