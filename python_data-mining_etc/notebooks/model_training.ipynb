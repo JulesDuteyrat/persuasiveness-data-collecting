{
 "cells": [
  {
   "cell_type": "code",
   "execution_count": 25,
   "metadata": {},
   "outputs": [],
   "source": [
    "import numpy as np\n",
    "import pandas as pd\n",
    "import tensorflow as tf\n",
    "from tensorflow import keras\n",
    "import os"
   ]
  },
  {
   "cell_type": "code",
   "execution_count": 26,
   "metadata": {},
   "outputs": [],
   "source": [
    "def get_csv_data(path_logs, path_csv):\n",
    "    data = pd.read_csv(path_csv, sep='\\t')\n",
    "    dfs = []\n",
    "    for dirname, _, filenames in os.walk(path_logs):\n",
    "        for filename in filenames:\n",
    "            if filename.endswith('.csv'):\n",
    "                file_path = os.path.join(dirname, filename).replace('\\\\', '/')\n",
    "                df = pd.read_csv(file_path,sep=' ')\n",
    "                \n",
    "                row = data.loc[data['log_id'] == int(filename[:-4])] # https://stackoverflow.com/questions/17071871/how-do-i-select-rows-from-a-dataframe-based-on-column-values\n",
    "                # print(row)\n",
    "                arr = row.values.tolist()\n",
    "                arr.append(df)\n",
    "                dfs.append(arr)\n",
    "    return dfs"
   ]
  },
  {
   "cell_type": "code",
   "execution_count": 27,
   "metadata": {},
   "outputs": [],
   "source": [
    "dfs = get_csv_data('../the-attentive-cursor-dataset/logs', '../the-attentive-cursor-dataset/groundtruth.tsv')"
   ]
  },
  {
   "cell_type": "code",
   "execution_count": 28,
   "metadata": {},
   "outputs": [],
   "source": [
    "cleandf = [] #note + liste des inputs\n",
    "for row in range(len(dfs)):\n",
    "    cleandf.append([dfs[row][0][2],dfs[row][1]['event'].value_counts()])"
   ]
  },
  {
   "cell_type": "code",
   "execution_count": 29,
   "metadata": {},
   "outputs": [],
   "source": [
    "\n",
    "tab = np.array(cleandf, dtype='object')\n",
    "for row in tab :\n",
    "    for input in ['mouseup','focus','load','beforeunload','unload','touchend'] : #liste arbitraire des actions à enlever\n",
    "        if input in row[1].keys() :\n",
    "            row[1].pop(input)\n",
    "\n",
    "#liste des actions à conserver\n",
    "all_inputs = []\n",
    "for row in tab :\n",
    "    for input in row[1].keys() :\n",
    "        if input not in all_inputs :\n",
    "            all_inputs.append(input)"
   ]
  },
  {
   "cell_type": "code",
   "execution_count": 30,
   "metadata": {},
   "outputs": [
    {
     "data": {
      "text/plain": [
       "'\\nfor input in all_inputs :\\n    tmp = []\\n    for row in tab :\\n        if input in row[1].keys() :\\n            tmp.append(row[1].get(input))\\n    mean = np.mean(tmp)\\n    for row in tab :\\n        if input in row[1].keys() :\\n            row[1][input] = row[1][input]/mean\\n\\nprint(tab)\\n'"
      ]
     },
     "execution_count": 30,
     "metadata": {},
     "output_type": "execute_result"
    }
   ],
   "source": [
    "#normalisation v1\n",
    "\"\"\"\n",
    "for input in all_inputs :\n",
    "    tmp = []\n",
    "    for row in tab :\n",
    "        if input in row[1].keys() :\n",
    "            tmp.append(row[1].get(input))\n",
    "    mean = np.mean(tmp)\n",
    "    for row in tab :\n",
    "        if input in row[1].keys() :\n",
    "            row[1][input] = row[1][input]/mean\n",
    "\n",
    "print(tab)\n",
    "\"\"\"\n"
   ]
  },
  {
   "cell_type": "code",
   "execution_count": 31,
   "metadata": {},
   "outputs": [
    {
     "name": "stdout",
     "output_type": "stream",
     "text": [
      "[[61 22  9 ...  0  0  0]\n",
      " [ 7  9  3 ...  0  0  0]\n",
      " [11 39  3 ...  0  0  0]\n",
      " ...\n",
      " [ 0  8  4 ...  0  0  0]\n",
      " [ 0  8  2 ...  0  0  0]\n",
      " [ 0  4  2 ...  0  0  0]]\n"
     ]
    }
   ],
   "source": [
    "tmp_all_x = [] #stock temporairement les données d'entrées\n",
    "tmp_all_y = [] #stock temporairement les données de sortie\n",
    "\n",
    "for row in tab :\n",
    "    tmp_all_x.append([])\n",
    "    for input in all_inputs :\n",
    "        if input in row[1].keys() :\n",
    "            tmp_all_x[len(tmp_all_x)-1].append(row[1].get(input))\n",
    "        else :\n",
    "            tmp_all_x[len(tmp_all_x)-1].append(0)\n",
    "    tmp_all_y.append(row[0])\n",
    "\n",
    "all_x = np.array(tmp_all_x) #données en entrée du modèle\n",
    "all_y = np.array(tmp_all_y) #données en sortie du modèle\n",
    "print(all_x)"
   ]
  },
  {
   "cell_type": "code",
   "execution_count": 40,
   "metadata": {},
   "outputs": [
    {
     "name": "stdout",
     "output_type": "stream",
     "text": [
      "0\n",
      "1\n",
      "2\n",
      "3\n",
      "4\n",
      "5\n",
      "6\n",
      "7\n",
      "8\n",
      "9\n",
      "10\n",
      "11\n",
      "12\n",
      "13\n",
      "[[21  1  3 ...  0  0  0]\n",
      " [ 1  0  0 ...  0  0  0]\n",
      " [ 2  3  0 ...  0  0  0]\n",
      " ...\n",
      " [ 0  0  1 ...  0  0  0]\n",
      " [ 0  0  0 ...  0  0  0]\n",
      " [ 0  0  0 ...  0  0  0]]\n"
     ]
    }
   ],
   "source": [
    "#normalisation v2 (la v1 est un peu mieux)\n",
    "\"\"\"\n",
    "for i in range(len(all_inputs)) :\n",
    "    print(i)\n",
    "    tmp = []\n",
    "    for row in all_x :\n",
    "        tmp.append(row[i])\n",
    "    mean = np.mean(tmp)\n",
    "    for row in all_x :\n",
    "        row[i] = row[i]/mean\n",
    "    \n",
    "print(all_x)\n",
    "\"\"\""
   ]
  },
  {
   "cell_type": "code",
   "execution_count": 41,
   "metadata": {},
   "outputs": [],
   "source": [
    "\n",
    "inputs = keras.Input(shape=(len(all_inputs),))\n",
    "x = tf.keras.layers.Dense(1, activation=tf.nn.relu)(inputs)\n",
    "outputs = tf.keras.layers.Dense(6, activation=tf.nn.softmax)(x)\n",
    "\n",
    "model = keras.Model(inputs=inputs, outputs = outputs)\n",
    "\n",
    "model.compile(\n",
    "    loss=keras.losses.SparseCategoricalCrossentropy(from_logits=True),\n",
    "    optimizer=keras.optimizers.RMSprop(),\n",
    "    metrics=[\"accuracy\"],\n",
    ")\n",
    "\n"
   ]
  },
  {
   "cell_type": "code",
   "execution_count": 42,
   "metadata": {},
   "outputs": [
    {
     "name": "stdout",
     "output_type": "stream",
     "text": [
      "Epoch 1/20\n",
      "44/44 [==============================] - 1s 9ms/step - loss: 1.8247 - accuracy: 0.2139 - val_loss: 1.8102 - val_accuracy: 0.2387\n",
      "Epoch 2/20\n",
      "44/44 [==============================] - 0s 4ms/step - loss: 1.8153 - accuracy: 0.2534 - val_loss: 1.8011 - val_accuracy: 0.2516\n",
      "Epoch 3/20\n",
      "44/44 [==============================] - 0s 4ms/step - loss: 1.8065 - accuracy: 0.2670 - val_loss: 1.7932 - val_accuracy: 0.2710\n",
      "Epoch 4/20\n",
      "44/44 [==============================] - 0s 4ms/step - loss: 1.7986 - accuracy: 0.2828 - val_loss: 1.7853 - val_accuracy: 0.3226\n",
      "Epoch 5/20\n",
      "44/44 [==============================] - 0s 4ms/step - loss: 1.7910 - accuracy: 0.2965 - val_loss: 1.7783 - val_accuracy: 0.3226\n",
      "Epoch 6/20\n",
      "44/44 [==============================] - 0s 4ms/step - loss: 1.7837 - accuracy: 0.3130 - val_loss: 1.7718 - val_accuracy: 0.3226\n",
      "Epoch 7/20\n",
      "44/44 [==============================] - 0s 6ms/step - loss: 1.7768 - accuracy: 0.3144 - val_loss: 1.7653 - val_accuracy: 0.3226\n",
      "Epoch 8/20\n",
      "44/44 [==============================] - 0s 5ms/step - loss: 1.7702 - accuracy: 0.3230 - val_loss: 1.7586 - val_accuracy: 0.3419\n",
      "Epoch 9/20\n",
      "44/44 [==============================] - 0s 5ms/step - loss: 1.7638 - accuracy: 0.3302 - val_loss: 1.7527 - val_accuracy: 0.3548\n",
      "Epoch 10/20\n",
      "44/44 [==============================] - 0s 4ms/step - loss: 1.7576 - accuracy: 0.3352 - val_loss: 1.7480 - val_accuracy: 0.3548\n",
      "Epoch 11/20\n",
      "44/44 [==============================] - 0s 4ms/step - loss: 1.7519 - accuracy: 0.3396 - val_loss: 1.7436 - val_accuracy: 0.3548\n",
      "Epoch 12/20\n",
      "44/44 [==============================] - 0s 5ms/step - loss: 1.7463 - accuracy: 0.3446 - val_loss: 1.7381 - val_accuracy: 0.3613\n",
      "Epoch 13/20\n",
      "44/44 [==============================] - 0s 5ms/step - loss: 1.7412 - accuracy: 0.3453 - val_loss: 1.7337 - val_accuracy: 0.3613\n",
      "Epoch 14/20\n",
      "44/44 [==============================] - 0s 5ms/step - loss: 1.7365 - accuracy: 0.3489 - val_loss: 1.7297 - val_accuracy: 0.3613\n",
      "Epoch 15/20\n",
      "44/44 [==============================] - 0s 5ms/step - loss: 1.7322 - accuracy: 0.3539 - val_loss: 1.7259 - val_accuracy: 0.3613\n",
      "Epoch 16/20\n",
      "44/44 [==============================] - 0s 5ms/step - loss: 1.7280 - accuracy: 0.3532 - val_loss: 1.7221 - val_accuracy: 0.3613\n",
      "Epoch 17/20\n",
      "44/44 [==============================] - 0s 5ms/step - loss: 1.7241 - accuracy: 0.3539 - val_loss: 1.7184 - val_accuracy: 0.3613\n",
      "Epoch 18/20\n",
      "44/44 [==============================] - 0s 5ms/step - loss: 1.7206 - accuracy: 0.3539 - val_loss: 1.7149 - val_accuracy: 0.3613\n",
      "Epoch 19/20\n",
      "44/44 [==============================] - 0s 4ms/step - loss: 1.7172 - accuracy: 0.3539 - val_loss: 1.7113 - val_accuracy: 0.3613\n",
      "Epoch 20/20\n",
      "44/44 [==============================] - 0s 4ms/step - loss: 1.7139 - accuracy: 0.3539 - val_loss: 1.7080 - val_accuracy: 0.3613\n"
     ]
    }
   ],
   "source": [
    "history = model.fit(all_x, all_y, epochs=20, validation_split=0.1)"
   ]
  }
 ],
 "metadata": {
  "interpreter": {
   "hash": "2be5faf79681da6f2a61fdfdd5405d65d042280f7fba6178067603e3a2925119"
  },
  "kernelspec": {
   "display_name": "Python 3.10.4 64-bit",
   "language": "python",
   "name": "python3"
  },
  "language_info": {
   "codemirror_mode": {
    "name": "ipython",
    "version": 3
   },
   "file_extension": ".py",
   "mimetype": "text/x-python",
   "name": "python",
   "nbconvert_exporter": "python",
   "pygments_lexer": "ipython3",
   "version": "3.10.4"
  },
  "orig_nbformat": 4
 },
 "nbformat": 4,
 "nbformat_minor": 2
}
