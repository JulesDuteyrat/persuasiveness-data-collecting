{
 "cells": [
  {
   "cell_type": "code",
   "execution_count": 15,
   "metadata": {},
   "outputs": [],
   "source": [
    "#imports\n",
    "#pip install numpy\n",
    "import numpy as np\n",
    "#pip install pandas\n",
    "import pandas as pd\n",
    "#pip install --upgrade tensorflow\n",
    "import tensorflow as tf\n",
    "from tensorflow import keras\n",
    "#standard library\n",
    "import os"
   ]
  },
  {
   "cell_type": "code",
   "execution_count": 16,
   "metadata": {},
   "outputs": [],
   "source": [
    "#this function allows to read the csv files from the logs of the attentive cursor dataset\n",
    "#path_logs : path to the logs of the dataset with the files containing the list of inputs for each user\n",
    "#path_csv : path to the groundtruth.csv containing the attention score of the each user\n",
    "#dfs : array containing, for each user, its attention score and the count of its inputs\n",
    "def get_csv_data(path_logs, path_csv):\n",
    "    data = pd.read_csv(path_csv, sep='\\t')\n",
    "    dfs = []\n",
    "    for dirname, _, filenames in os.walk(path_logs):\n",
    "        for filename in filenames:\n",
    "            if filename.endswith('.csv'):\n",
    "                file_path = os.path.join(dirname, filename).replace('\\\\', '/')\n",
    "                df = pd.read_csv(file_path,sep=' ')\n",
    "                \n",
    "                row = data.loc[data['log_id'] == int(filename[:-4])] # https://stackoverflow.com/questions/17071871/how-do-i-select-rows-from-a-dataframe-based-on-column-values\n",
    "                # print(row)\n",
    "                arr = row.values.tolist()\n",
    "                arr.append(df)\n",
    "                dfs.append(arr)\n",
    "    return dfs"
   ]
  },
  {
   "cell_type": "code",
   "execution_count": 17,
   "metadata": {},
   "outputs": [],
   "source": [
    "#loading the data\n",
    "dfs = get_csv_data('../the-attentive-cursor-dataset/logs', '../the-attentive-cursor-dataset/groundtruth.tsv')"
   ]
  },
  {
   "cell_type": "code",
   "execution_count": 18,
   "metadata": {},
   "outputs": [],
   "source": [
    "#keeping the attention score and the amount of each input for each user\n",
    "cleandf = []\n",
    "for row in range(len(dfs)):\n",
    "    cleandf.append([dfs[row][0][2],dfs[row][1]['event'].value_counts()])"
   ]
  },
  {
   "cell_type": "code",
   "execution_count": 19,
   "metadata": {},
   "outputs": [
    {
     "name": "stdout",
     "output_type": "stream",
     "text": [
      "['blur', 'click', 'contextmenu', 'copy', 'keydown', 'keyup', 'mousedown', 'mousemove', 'mouseover', 'resize', 'scroll', 'select', 'touchmove', 'touchstart']\n"
     ]
    }
   ],
   "source": [
    "#removing 'useless input types from the data'\n",
    "tab = np.array(cleandf, dtype='object')\n",
    "removed = ['mouseup','focus','load','beforeunload','unload','touchend'] #arbitrary list of input types to remove\n",
    "for row in tab :\n",
    "    for input in removed : \n",
    "        if input in row[1].keys() :\n",
    "            row[1].pop(input)\n",
    "\n",
    "#searching the data for every other input types\n",
    "all_inputs = []\n",
    "for row in tab :\n",
    "    for input in row[1].keys() :\n",
    "        if input not in all_inputs :\n",
    "            all_inputs.append(input)\n",
    "all_inputs.sort()\n",
    "print(all_inputs)"
   ]
  },
  {
   "cell_type": "code",
   "execution_count": 20,
   "metadata": {},
   "outputs": [
    {
     "data": {
      "text/plain": [
       "'\\nfor input in all_inputs :\\n    max = 0\\n    for row in tab :\\n        if input in row[1].keys() :\\n            if row[1].get(input) > max :\\n                max = row[1].get(input)\\n    for row in tab :\\n        if input in row[1].keys() :\\n            row[1][input] = row[1][input]/max\\n'"
      ]
     },
     "execution_count": 20,
     "metadata": {},
     "output_type": "execute_result"
    }
   ],
   "source": [
    "#normaliations and the removal of extremes data are kept commented because they did not affect the accuracy\n",
    "#of the model in any significant way but are kept in the code for future devs to know what has been tried on\n",
    "#this model\n",
    "\n",
    "#normalisation v1\n",
    "\"\"\"\n",
    "for input in all_inputs :\n",
    "    tmp = []\n",
    "    for row in tab :\n",
    "        if input in row[1].keys() :\n",
    "            tmp.append(row[1].get(input))\n",
    "    mean = np.mean(tmp)\n",
    "    for row in tab :\n",
    "        if input in row[1].keys() :\n",
    "            row[1][input] = row[1][input]/mean\n",
    "\n",
    "print(tab)\n",
    "\"\"\"\n",
    "#normalisation v3\n",
    "\"\"\"\n",
    "for input in all_inputs :\n",
    "    max = 0\n",
    "    for row in tab :\n",
    "        if input in row[1].keys() :\n",
    "            if row[1].get(input) > max :\n",
    "                max = row[1].get(input)\n",
    "    for row in tab :\n",
    "        if input in row[1].keys() :\n",
    "            row[1][input] = row[1][input]/max\n",
    "\"\"\""
   ]
  },
  {
   "cell_type": "code",
   "execution_count": 21,
   "metadata": {},
   "outputs": [
    {
     "name": "stdout",
     "output_type": "stream",
     "text": [
      "[[3 2 1 ... 0 0 0]\n",
      " [0 1 0 ... 0 0 0]\n",
      " [2 0 0 ... 0 0 0]\n",
      " ...\n",
      " [2 1 0 ... 0 0 0]\n",
      " [3 1 0 ... 0 0 0]\n",
      " [1 1 0 ... 0 0 0]]\n"
     ]
    }
   ],
   "source": [
    "tmp_all_x = [] #stock a python array version of the data shaped as the entry of the model\n",
    "tmp_all_y = [] #stock a python array version of the data shaped as the results of the model (for training purpose)\n",
    "\n",
    "for row in tab :\n",
    "    tmp_all_x.append([])\n",
    "    for input in all_inputs :\n",
    "        if input in row[1].keys() :\n",
    "            tmp_all_x[len(tmp_all_x)-1].append(row[1].get(input))\n",
    "        else :\n",
    "            tmp_all_x[len(tmp_all_x)-1].append(0)\n",
    "    tmp_all_y.append(row[0])\n",
    "\n",
    "all_x = np.array(tmp_all_x) #numpy array version of the shaped data\n",
    "all_y = np.array(tmp_all_y)\n",
    "print(all_x)"
   ]
  },
  {
   "cell_type": "code",
   "execution_count": 22,
   "metadata": {},
   "outputs": [
    {
     "data": {
      "text/plain": [
       "'\\ni = 0\\nbad_rows = []\\nfor row in range(len(all_x)) :\\n    for element in all_x[row] :\\n        if element > 5 :\\n            i +=1\\n            bad_rows.append(row)\\n            continue\\n\\nall_x = np.delete(all_x,bad_rows, axis=0)\\nprint(all_x)\\n'"
      ]
     },
     "execution_count": 22,
     "metadata": {},
     "output_type": "execute_result"
    }
   ],
   "source": [
    "#normalisation v2\n",
    "\"\"\"\n",
    "for i in range(len(all_inputs)) :\n",
    "    print(i)\n",
    "    tmp = []\n",
    "    for row in all_x :\n",
    "        tmp.append(row[i])\n",
    "    mean = np.mean(tmp)\n",
    "    for row in all_x :\n",
    "        row[i] = row[i]/mean\n",
    "    \n",
    "print(all_x)\n",
    "\"\"\"\n",
    "\n",
    "#enlevage des données extrèmes (faire une normalisation avant)\n",
    "\"\"\"\n",
    "i = 0\n",
    "bad_rows = []\n",
    "for row in range(len(all_x)) :\n",
    "    for element in all_x[row] :\n",
    "        if element > 5 :\n",
    "            i +=1\n",
    "            bad_rows.append(row)\n",
    "            continue\n",
    "\n",
    "all_x = np.delete(all_x,bad_rows, axis=0)\n",
    "print(all_x)\n",
    "\"\"\""
   ]
  },
  {
   "cell_type": "code",
   "execution_count": 23,
   "metadata": {},
   "outputs": [
    {
     "name": "stdout",
     "output_type": "stream",
     "text": [
      "all used input types : \n",
      "['blur', 'click', 'contextmenu', 'copy', 'keydown', 'keyup', 'mousedown', 'mousemove', 'mouseover', 'resize', 'scroll', 'select', 'touchmove', 'touchstart']\n",
      "all removed inputs : \n",
      "['mouseup', 'focus', 'load', 'beforeunload', 'unload', 'touchend']\n"
     ]
    }
   ],
   "source": [
    "\n",
    "inputs = keras.Input(shape=(len(all_inputs),))\n",
    "x = tf.keras.layers.Dense(1, activation=tf.nn.relu)(inputs)\n",
    "outputs = tf.keras.layers.Dense(6, activation=tf.nn.softmax)(x)\n",
    "\n",
    "model = keras.Model(inputs=inputs, outputs = outputs)\n",
    "\n",
    "model.compile(\n",
    "    loss=keras.losses.SparseCategoricalCrossentropy(from_logits=True),\n",
    "    optimizer=keras.optimizers.RMSprop(),\n",
    "    metrics=[\"accuracy\"],\n",
    ")\n",
    "\n",
    "#list of inputs (uncoment to see)\n",
    "print('all used input types : ')\n",
    "print(all_inputs)\n",
    "#all_inputs correspond to all the inputs type minus\n",
    "print('all removed inputs : ')\n",
    "print(removed)"
   ]
  },
  {
   "cell_type": "code",
   "execution_count": 24,
   "metadata": {},
   "outputs": [
    {
     "name": "stdout",
     "output_type": "stream",
     "text": [
      "[0 1 0 0 0 0 1 9 3 0 7 0 0 0]\n"
     ]
    }
   ],
   "source": [
    "print(all_x[1])"
   ]
  },
  {
   "cell_type": "code",
   "execution_count": 25,
   "metadata": {},
   "outputs": [
    {
     "name": "stdout",
     "output_type": "stream",
     "text": [
      "Epoch 1/20\n",
      "82/82 [==============================] - 1s 5ms/step - loss: 1.6894 - accuracy: 0.3373 - val_loss: 1.6564 - val_accuracy: 0.4261\n",
      "Epoch 2/20\n",
      "82/82 [==============================] - 0s 3ms/step - loss: 1.6708 - accuracy: 0.3697 - val_loss: 1.6397 - val_accuracy: 0.4261\n",
      "Epoch 3/20\n",
      "82/82 [==============================] - 0s 2ms/step - loss: 1.6626 - accuracy: 0.3697 - val_loss: 1.6325 - val_accuracy: 0.4261\n",
      "Epoch 4/20\n",
      "82/82 [==============================] - 0s 3ms/step - loss: 1.6579 - accuracy: 0.3697 - val_loss: 1.6295 - val_accuracy: 0.4261\n",
      "Epoch 5/20\n",
      "82/82 [==============================] - 0s 2ms/step - loss: 1.6548 - accuracy: 0.3697 - val_loss: 1.6287 - val_accuracy: 0.4261\n",
      "Epoch 6/20\n",
      "82/82 [==============================] - 0s 2ms/step - loss: 1.6530 - accuracy: 0.3697 - val_loss: 1.6254 - val_accuracy: 0.4261\n",
      "Epoch 7/20\n",
      "82/82 [==============================] - 0s 3ms/step - loss: 1.6516 - accuracy: 0.3697 - val_loss: 1.6265 - val_accuracy: 0.4261\n",
      "Epoch 8/20\n",
      "82/82 [==============================] - 0s 3ms/step - loss: 1.6508 - accuracy: 0.3697 - val_loss: 1.6267 - val_accuracy: 0.4261\n",
      "Epoch 9/20\n",
      "82/82 [==============================] - 0s 3ms/step - loss: 1.6503 - accuracy: 0.3697 - val_loss: 1.6239 - val_accuracy: 0.4261\n",
      "Epoch 10/20\n",
      "82/82 [==============================] - 0s 2ms/step - loss: 1.6495 - accuracy: 0.3697 - val_loss: 1.6278 - val_accuracy: 0.4261\n",
      "Epoch 11/20\n",
      "82/82 [==============================] - 0s 3ms/step - loss: 1.6497 - accuracy: 0.3697 - val_loss: 1.6244 - val_accuracy: 0.4261\n",
      "Epoch 12/20\n",
      "82/82 [==============================] - 0s 3ms/step - loss: 1.6493 - accuracy: 0.3697 - val_loss: 1.6234 - val_accuracy: 0.4261\n",
      "Epoch 13/20\n",
      "82/82 [==============================] - 0s 3ms/step - loss: 1.6493 - accuracy: 0.3697 - val_loss: 1.6247 - val_accuracy: 0.4261\n",
      "Epoch 14/20\n",
      "82/82 [==============================] - 0s 3ms/step - loss: 1.6490 - accuracy: 0.3697 - val_loss: 1.6269 - val_accuracy: 0.4261\n",
      "Epoch 15/20\n",
      "82/82 [==============================] - 0s 2ms/step - loss: 1.6489 - accuracy: 0.3697 - val_loss: 1.6222 - val_accuracy: 0.4261\n",
      "Epoch 16/20\n",
      "82/82 [==============================] - 0s 2ms/step - loss: 1.6491 - accuracy: 0.3697 - val_loss: 1.6222 - val_accuracy: 0.4261\n",
      "Epoch 17/20\n",
      "82/82 [==============================] - 0s 2ms/step - loss: 1.6488 - accuracy: 0.3697 - val_loss: 1.6237 - val_accuracy: 0.4261\n",
      "Epoch 18/20\n",
      "82/82 [==============================] - 0s 2ms/step - loss: 1.6489 - accuracy: 0.3697 - val_loss: 1.6225 - val_accuracy: 0.4261\n",
      "Epoch 19/20\n",
      "82/82 [==============================] - 0s 3ms/step - loss: 1.6489 - accuracy: 0.3697 - val_loss: 1.6225 - val_accuracy: 0.4261\n",
      "Epoch 20/20\n",
      "82/82 [==============================] - 0s 3ms/step - loss: 1.6487 - accuracy: 0.3697 - val_loss: 1.6245 - val_accuracy: 0.4261\n"
     ]
    }
   ],
   "source": [
    "history = model.fit(all_x, all_y, epochs=20, validation_split=0.1)"
   ]
  },
  {
   "cell_type": "code",
   "execution_count": 26,
   "metadata": {},
   "outputs": [],
   "source": [
    "import tensorflowjs as tfjs\n",
    "tfjs.converters.save_keras_model(model, './model')"
   ]
  },
  {
   "cell_type": "code",
   "execution_count": 28,
   "metadata": {},
   "outputs": [
    {
     "name": "stdout",
     "output_type": "stream",
     "text": [
      "[[0.         0.         0.         0.         0.99735427 0.00264577]]\n"
     ]
    }
   ],
   "source": [
    "num_array = np.array([ 0, 17, 0, 0, 0, 0, 21, 324, 28, 0, 0, 0, 0, 0 ])\n",
    "prediction = model.predict(num_array.reshape(1, -1))\n",
    "print(prediction)"
   ]
  }
 ],
 "metadata": {
  "interpreter": {
   "hash": "81794d4967e6c3204c66dcd87b604927b115b27c00565d3d43f05ba2f3a2cb0d"
  },
  "kernelspec": {
   "display_name": "Python 3.9.5 64-bit",
   "language": "python",
   "name": "python3"
  },
  "language_info": {
   "codemirror_mode": {
    "name": "ipython",
    "version": 3
   },
   "file_extension": ".py",
   "mimetype": "text/x-python",
   "name": "python",
   "nbconvert_exporter": "python",
   "pygments_lexer": "ipython3",
   "version": "3.9.5"
  },
  "orig_nbformat": 4
 },
 "nbformat": 4,
 "nbformat_minor": 2
}
