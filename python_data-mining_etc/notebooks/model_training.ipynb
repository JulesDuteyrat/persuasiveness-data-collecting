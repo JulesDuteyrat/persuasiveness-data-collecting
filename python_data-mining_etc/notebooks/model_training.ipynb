{
 "cells": [
  {
   "cell_type": "code",
   "execution_count": 1,
   "metadata": {},
   "outputs": [],
   "source": [
    "#imports\n",
    "#pip install numpy\n",
    "import numpy as np\n",
    "#pip install pandas\n",
    "import pandas as pd\n",
    "#pip install --upgrade tensorflow\n",
    "import tensorflow as tf\n",
    "from tensorflow import keras\n",
    "#standard library\n",
    "import os"
   ]
  },
  {
   "cell_type": "code",
   "execution_count": 2,
   "metadata": {},
   "outputs": [],
   "source": [
    "#this function allows to read the csv files from the logs of the attentive cursor dataset\n",
    "#path_logs : path to the logs of the dataset with the files containing the list of inputs for each user\n",
    "#path_csv : path to the groundtruth.csv containing the attention score of the each user\n",
    "#dfs : array containing, for each user, its attention score and the count of its inputs\n",
    "def get_csv_data(path_logs, path_csv):\n",
    "    data = pd.read_csv(path_csv, sep='\\t')\n",
    "    dfs = []\n",
    "    for dirname, _, filenames in os.walk(path_logs):\n",
    "        for filename in filenames:\n",
    "            if filename.endswith('.csv'):\n",
    "                file_path = os.path.join(dirname, filename).replace('\\\\', '/')\n",
    "                df = pd.read_csv(file_path,sep=' ')\n",
    "                \n",
    "                row = data.loc[data['log_id'] == int(filename[:-4])] # https://stackoverflow.com/questions/17071871/how-do-i-select-rows-from-a-dataframe-based-on-column-values\n",
    "                # print(row)\n",
    "                arr = row.values.tolist()\n",
    "                arr.append(df)\n",
    "                dfs.append(arr)\n",
    "    return dfs"
   ]
  },
  {
   "cell_type": "code",
   "execution_count": 3,
   "metadata": {},
   "outputs": [],
   "source": [
    "#loading the data\n",
    "dfs = get_csv_data('../the-attentive-cursor-dataset/logs', '../the-attentive-cursor-dataset/groundtruth.tsv')"
   ]
  },
  {
   "cell_type": "code",
   "execution_count": 4,
   "metadata": {},
   "outputs": [],
   "source": [
    "#keeping the attention score and the amount of each input for each user\n",
    "cleandf = []\n",
    "for row in range(len(dfs)):\n",
    "    cleandf.append([dfs[row][0][2],dfs[row][1]['event'].value_counts()])"
   ]
  },
  {
   "cell_type": "code",
   "execution_count": 5,
   "metadata": {},
   "outputs": [
    {
     "name": "stdout",
     "output_type": "stream",
     "text": [
      "['blur', 'click', 'contextmenu', 'copy', 'keydown', 'keyup', 'mousedown', 'mousemove', 'mouseover', 'resize', 'scroll', 'select', 'touchmove', 'touchstart']\n"
     ]
    }
   ],
   "source": [
    "#removing 'useless input types from the data'\n",
    "tab = np.array(cleandf, dtype='object')\n",
    "removed = ['mouseup','focus','load','beforeunload','unload','touchend'] #arbitrary list of input types to remove\n",
    "for row in tab :\n",
    "    for input in removed : \n",
    "        if input in row[1].keys() :\n",
    "            row[1].pop(input)\n",
    "\n",
    "#searching the data for every other input types and storing them in alphabetical order\n",
    "all_inputs = []\n",
    "for row in tab :\n",
    "    for input in row[1].keys() :\n",
    "        if input not in all_inputs :\n",
    "            all_inputs.append(input)\n",
    "all_inputs.sort()\n",
    "print(all_inputs)"
   ]
  },
  {
   "cell_type": "code",
   "execution_count": 6,
   "metadata": {},
   "outputs": [
    {
     "data": {
      "text/plain": [
       "'\\nfor input in all_inputs :\\n    max = 0\\n    for row in tab :\\n        if input in row[1].keys() :\\n            if row[1].get(input) > max :\\n                max = row[1].get(input)\\n    for row in tab :\\n        if input in row[1].keys() :\\n            row[1][input] = row[1][input]/max\\n'"
      ]
     },
     "execution_count": 6,
     "metadata": {},
     "output_type": "execute_result"
    }
   ],
   "source": [
    "#normaliations and the removal of extremes data are kept commented because they did not affect the accuracy\n",
    "#of the model in any significant way but are kept in the code for future devs to know what has been tried on\n",
    "#this model\n",
    "\n",
    "#normalisation v1\n",
    "\"\"\"\n",
    "for input in all_inputs :\n",
    "    tmp = []\n",
    "    for row in tab :\n",
    "        if input in row[1].keys() :\n",
    "            tmp.append(row[1].get(input))\n",
    "    mean = np.mean(tmp)\n",
    "    for row in tab :\n",
    "        if input in row[1].keys() :\n",
    "            row[1][input] = row[1][input]/mean\n",
    "\n",
    "print(tab)\n",
    "\"\"\"\n",
    "#normalisation v3\n",
    "\"\"\"\n",
    "for input in all_inputs :\n",
    "    max = 0\n",
    "    for row in tab :\n",
    "        if input in row[1].keys() :\n",
    "            if row[1].get(input) > max :\n",
    "                max = row[1].get(input)\n",
    "    for row in tab :\n",
    "        if input in row[1].keys() :\n",
    "            row[1][input] = row[1][input]/max\n",
    "\"\"\""
   ]
  },
  {
   "cell_type": "code",
   "execution_count": 7,
   "metadata": {},
   "outputs": [
    {
     "name": "stdout",
     "output_type": "stream",
     "text": [
      "[[3 2 1 ... 0 0 0]\n",
      " [0 1 0 ... 0 0 0]\n",
      " [2 0 0 ... 0 0 0]\n",
      " ...\n",
      " [2 1 0 ... 0 0 0]\n",
      " [3 1 0 ... 0 0 0]\n",
      " [1 1 0 ... 0 0 0]]\n"
     ]
    }
   ],
   "source": [
    "tmp_all_x = [] #stock a python array version of the data shaped as the entry of the model\n",
    "tmp_all_y = [] #stock a python array version of the data shaped as the results of the model (for training purpose)\n",
    "\n",
    "#the entry data for the model for each user in an array with a length of 14 (the number of input types) filled\n",
    "# with number of inputs for each input type in the order of the list of input types \n",
    "\n",
    "for row in tab :\n",
    "    tmp_all_x.append([])\n",
    "    for input in all_inputs :\n",
    "        if input in row[1].keys() :\n",
    "            tmp_all_x[len(tmp_all_x)-1].append(row[1].get(input))\n",
    "        else :\n",
    "            tmp_all_x[len(tmp_all_x)-1].append(0)\n",
    "    tmp_all_y.append(row[0])\n",
    "\n",
    "all_x = np.array(tmp_all_x) #numpy array version of the shaped data\n",
    "all_y = np.array(tmp_all_y)\n",
    "print(all_x)"
   ]
  },
  {
   "cell_type": "code",
   "execution_count": 8,
   "metadata": {},
   "outputs": [
    {
     "data": {
      "text/plain": [
       "'\\ni = 0\\nbad_rows = []\\nfor row in range(len(all_x)) :\\n    for element in all_x[row] :\\n        if element > 5 :\\n            i +=1\\n            bad_rows.append(row)\\n            continue\\n\\nall_x = np.delete(all_x,bad_rows, axis=0)\\nprint(all_x)\\n'"
      ]
     },
     "execution_count": 8,
     "metadata": {},
     "output_type": "execute_result"
    }
   ],
   "source": [
    "#normalisation v2\n",
    "\"\"\"\n",
    "for i in range(len(all_inputs)) :\n",
    "    print(i)\n",
    "    tmp = []\n",
    "    for row in all_x :\n",
    "        tmp.append(row[i])\n",
    "    mean = np.mean(tmp)\n",
    "    for row in all_x :\n",
    "        row[i] = row[i]/mean\n",
    "    \n",
    "print(all_x)\n",
    "\"\"\"\n",
    "\n",
    "#enlevage des données extrèmes (faire une normalisation avant)\n",
    "\"\"\"\n",
    "i = 0\n",
    "bad_rows = []\n",
    "for row in range(len(all_x)) :\n",
    "    for element in all_x[row] :\n",
    "        if element > 5 :\n",
    "            i +=1\n",
    "            bad_rows.append(row)\n",
    "            continue\n",
    "\n",
    "all_x = np.delete(all_x,bad_rows, axis=0)\n",
    "print(all_x)\n",
    "\"\"\""
   ]
  },
  {
   "cell_type": "code",
   "execution_count": 9,
   "metadata": {},
   "outputs": [
    {
     "name": "stdout",
     "output_type": "stream",
     "text": [
      "all used input types : \n",
      "['blur', 'click', 'contextmenu', 'copy', 'keydown', 'keyup', 'mousedown', 'mousemove', 'mouseover', 'resize', 'scroll', 'select', 'touchmove', 'touchstart']\n",
      "all removed inputs : \n",
      "['mouseup', 'focus', 'load', 'beforeunload', 'unload', 'touchend']\n"
     ]
    }
   ],
   "source": [
    "#this is a classifier model\n",
    "inputs = keras.Input(shape=(len(all_inputs),))\n",
    "x = tf.keras.layers.Dense(1, activation=tf.nn.relu)(inputs)\n",
    "outputs = tf.keras.layers.Dense(6, activation=tf.nn.softmax)(x)\n",
    "\n",
    "model = keras.Model(inputs=inputs, outputs = outputs)\n",
    "\n",
    "model.compile(\n",
    "    loss=keras.losses.SparseCategoricalCrossentropy(from_logits=True),\n",
    "    optimizer=keras.optimizers.RMSprop(),\n",
    "    metrics=[\"accuracy\"],\n",
    ")\n",
    "\n",
    "#list of inputs (uncoment to see)\n",
    "print('all used input types : ')\n",
    "print(all_inputs)\n",
    "#all_inputs correspond to all the inputs type minus\n",
    "print('all removed inputs : ')\n",
    "print(removed)"
   ]
  },
  {
   "cell_type": "code",
   "execution_count": 10,
   "metadata": {},
   "outputs": [
    {
     "name": "stdout",
     "output_type": "stream",
     "text": [
      "[0 1 0 0 0 0 1 9 3 0 7 0 0 0]\n"
     ]
    }
   ],
   "source": [
    "print(all_x[1])"
   ]
  },
  {
   "cell_type": "code",
   "execution_count": 11,
   "metadata": {},
   "outputs": [
    {
     "name": "stdout",
     "output_type": "stream",
     "text": [
      "Epoch 1/20\n",
      "82/82 [==============================] - 1s 3ms/step - loss: 1.7886 - accuracy: 0.3640 - val_loss: 1.7824 - val_accuracy: 0.4227\n",
      "Epoch 2/20\n",
      "82/82 [==============================] - 0s 2ms/step - loss: 1.7801 - accuracy: 0.3678 - val_loss: 1.7732 - val_accuracy: 0.4227\n",
      "Epoch 3/20\n",
      "82/82 [==============================] - 0s 1ms/step - loss: 1.7718 - accuracy: 0.3678 - val_loss: 1.7642 - val_accuracy: 0.4227\n",
      "Epoch 4/20\n",
      "82/82 [==============================] - 0s 1ms/step - loss: 1.7635 - accuracy: 0.3682 - val_loss: 1.7553 - val_accuracy: 0.4227\n",
      "Epoch 5/20\n",
      "82/82 [==============================] - 0s 1ms/step - loss: 1.7553 - accuracy: 0.3678 - val_loss: 1.7466 - val_accuracy: 0.4227\n",
      "Epoch 6/20\n",
      "82/82 [==============================] - 0s 1ms/step - loss: 1.7474 - accuracy: 0.3686 - val_loss: 1.7380 - val_accuracy: 0.4227\n",
      "Epoch 7/20\n",
      "82/82 [==============================] - 0s 1ms/step - loss: 1.7398 - accuracy: 0.3686 - val_loss: 1.7300 - val_accuracy: 0.4227\n",
      "Epoch 8/20\n",
      "82/82 [==============================] - 0s 1ms/step - loss: 1.7326 - accuracy: 0.3686 - val_loss: 1.7221 - val_accuracy: 0.4227\n",
      "Epoch 9/20\n",
      "82/82 [==============================] - 0s 1ms/step - loss: 1.7258 - accuracy: 0.3686 - val_loss: 1.7149 - val_accuracy: 0.4227\n",
      "Epoch 10/20\n",
      "82/82 [==============================] - 0s 1ms/step - loss: 1.7194 - accuracy: 0.3686 - val_loss: 1.7078 - val_accuracy: 0.4227\n",
      "Epoch 11/20\n",
      "82/82 [==============================] - 0s 1ms/step - loss: 1.7134 - accuracy: 0.3678 - val_loss: 1.7011 - val_accuracy: 0.4227\n",
      "Epoch 12/20\n",
      "82/82 [==============================] - 0s 1ms/step - loss: 1.7077 - accuracy: 0.3678 - val_loss: 1.6947 - val_accuracy: 0.4227\n",
      "Epoch 13/20\n",
      "82/82 [==============================] - 0s 1ms/step - loss: 1.7023 - accuracy: 0.3678 - val_loss: 1.6887 - val_accuracy: 0.4227\n",
      "Epoch 14/20\n",
      "82/82 [==============================] - 0s 1ms/step - loss: 1.6973 - accuracy: 0.3678 - val_loss: 1.6829 - val_accuracy: 0.4227\n",
      "Epoch 15/20\n",
      "82/82 [==============================] - 0s 1ms/step - loss: 1.6927 - accuracy: 0.3678 - val_loss: 1.6776 - val_accuracy: 0.4227\n",
      "Epoch 16/20\n",
      "82/82 [==============================] - 0s 1ms/step - loss: 1.6884 - accuracy: 0.3682 - val_loss: 1.6725 - val_accuracy: 0.4227\n",
      "Epoch 17/20\n",
      "82/82 [==============================] - 0s 1ms/step - loss: 1.6848 - accuracy: 0.3686 - val_loss: 1.6681 - val_accuracy: 0.4227\n",
      "Epoch 18/20\n",
      "82/82 [==============================] - 0s 1ms/step - loss: 1.6816 - accuracy: 0.3686 - val_loss: 1.6641 - val_accuracy: 0.4227\n",
      "Epoch 19/20\n",
      "82/82 [==============================] - 0s 1ms/step - loss: 1.6786 - accuracy: 0.3686 - val_loss: 1.6604 - val_accuracy: 0.4227\n",
      "Epoch 20/20\n",
      "82/82 [==============================] - 0s 1ms/step - loss: 1.6759 - accuracy: 0.3686 - val_loss: 1.6569 - val_accuracy: 0.4227\n"
     ]
    }
   ],
   "source": [
    "history = model.fit(all_x, all_y, epochs=20, validation_split=0.1)"
   ]
  },
  {
   "cell_type": "code",
   "execution_count": 12,
   "metadata": {},
   "outputs": [],
   "source": [
    "import tensorflowjs as tfjs\n",
    "tfjs.converters.save_keras_model(model, './model')"
   ]
  },
  {
   "cell_type": "code",
   "execution_count": 13,
   "metadata": {},
   "outputs": [
    {
     "name": "stdout",
     "output_type": "stream",
     "text": [
      "1/1 [==============================] - 0s 71ms/step\n",
      "[[0.02905064 0.03532463 0.06507348 0.03190719 0.5299927  0.30865136]]\n"
     ]
    }
   ],
   "source": [
    "num_array = np.array([ 0, 17, 0, 0, 0, 0, 21, 324, 28, 0, 0, 0, 0, 0 ])\n",
    "prediction = model.predict(num_array.reshape(1, -1))\n",
    "print(prediction)"
   ]
  },
  {
   "cell_type": "code",
   "execution_count": 14,
   "metadata": {},
   "outputs": [
    {
     "name": "stdout",
     "output_type": "stream",
     "text": [
      "Model: \"sequential\"\n",
      "_________________________________________________________________\n",
      " Layer (type)                Output Shape              Param #   \n",
      "=================================================================\n",
      " normalization (Normalizatio  (None, 14)               3         \n",
      " n)                                                              \n",
      "                                                                 \n",
      " dense_2 (Dense)             (None, 1)                 15        \n",
      "                                                                 \n",
      "=================================================================\n",
      "Total params: 18\n",
      "Trainable params: 15\n",
      "Non-trainable params: 3\n",
      "_________________________________________________________________\n"
     ]
    }
   ],
   "source": [
    "#attempt at a linear reggression model\n",
    "data = all_x\n",
    "\n",
    "data_normalizer = keras.layers.Normalization(input_shape=[14,], axis=None)\n",
    "data_normalizer.adapt(data)\n",
    "\n",
    "persuasiveness_model = tf.keras.Sequential([\n",
    "    data_normalizer,\n",
    "    keras.layers.Dense(units=1)\n",
    "])\n",
    "\n",
    "persuasiveness_model.summary()\n",
    "\n",
    "persuasiveness_model.compile(\n",
    "    optimizer=tf.optimizers.Adam(learning_rate=0.1),\n",
    "    loss='mean_absolute_error',\n",
    "    metrics=['mae'])"
   ]
  },
  {
   "cell_type": "code",
   "execution_count": 15,
   "metadata": {},
   "outputs": [
    {
     "name": "stdout",
     "output_type": "stream",
     "text": [
      "Epoch 1/100\n",
      "73/73 [==============================] - 0s 3ms/step - loss: 1.3435 - mae: 1.3435 - val_loss: 0.9934 - val_mae: 0.9934\n",
      "Epoch 2/100\n",
      "73/73 [==============================] - 0s 1ms/step - loss: 1.0649 - mae: 1.0649 - val_loss: 0.9518 - val_mae: 0.9518\n",
      "Epoch 3/100\n",
      "73/73 [==============================] - 0s 2ms/step - loss: 1.0714 - mae: 1.0714 - val_loss: 1.0295 - val_mae: 1.0295\n",
      "Epoch 4/100\n",
      "73/73 [==============================] - 0s 2ms/step - loss: 1.0708 - mae: 1.0708 - val_loss: 0.9583 - val_mae: 0.9583\n",
      "Epoch 5/100\n",
      "73/73 [==============================] - 0s 1ms/step - loss: 1.0657 - mae: 1.0657 - val_loss: 0.9965 - val_mae: 0.9965\n",
      "Epoch 6/100\n",
      "73/73 [==============================] - 0s 1ms/step - loss: 1.0876 - mae: 1.0876 - val_loss: 0.9943 - val_mae: 0.9943\n",
      "Epoch 7/100\n",
      "73/73 [==============================] - 0s 1ms/step - loss: 1.0620 - mae: 1.0620 - val_loss: 0.9838 - val_mae: 0.9838\n",
      "Epoch 8/100\n",
      "73/73 [==============================] - 0s 1ms/step - loss: 1.0757 - mae: 1.0757 - val_loss: 1.0009 - val_mae: 1.0009\n",
      "Epoch 9/100\n",
      "73/73 [==============================] - 0s 2ms/step - loss: 1.0592 - mae: 1.0592 - val_loss: 0.9472 - val_mae: 0.9472\n",
      "Epoch 10/100\n",
      "73/73 [==============================] - 0s 2ms/step - loss: 1.0936 - mae: 1.0936 - val_loss: 0.9740 - val_mae: 0.9740\n",
      "Epoch 11/100\n",
      "73/73 [==============================] - 0s 1ms/step - loss: 1.0839 - mae: 1.0839 - val_loss: 0.9344 - val_mae: 0.9344\n",
      "Epoch 12/100\n",
      "73/73 [==============================] - 0s 1ms/step - loss: 1.0452 - mae: 1.0452 - val_loss: 0.9862 - val_mae: 0.9862\n",
      "Epoch 13/100\n",
      "73/73 [==============================] - 0s 2ms/step - loss: 1.0512 - mae: 1.0512 - val_loss: 0.9379 - val_mae: 0.9379\n",
      "Epoch 14/100\n",
      "73/73 [==============================] - 0s 1ms/step - loss: 1.0789 - mae: 1.0789 - val_loss: 0.9826 - val_mae: 0.9826\n",
      "Epoch 15/100\n",
      "73/73 [==============================] - 0s 1ms/step - loss: 1.0733 - mae: 1.0733 - val_loss: 1.0253 - val_mae: 1.0253\n",
      "Epoch 16/100\n",
      "73/73 [==============================] - 0s 1ms/step - loss: 1.1020 - mae: 1.1020 - val_loss: 0.9887 - val_mae: 0.9887\n",
      "Epoch 17/100\n",
      "73/73 [==============================] - 0s 1ms/step - loss: 1.0921 - mae: 1.0921 - val_loss: 1.0398 - val_mae: 1.0398\n",
      "Epoch 18/100\n",
      "73/73 [==============================] - 0s 1ms/step - loss: 1.0790 - mae: 1.0790 - val_loss: 0.9374 - val_mae: 0.9374\n",
      "Epoch 19/100\n",
      "73/73 [==============================] - 0s 1ms/step - loss: 1.0625 - mae: 1.0625 - val_loss: 0.9429 - val_mae: 0.9429\n",
      "Epoch 20/100\n",
      "73/73 [==============================] - 0s 1ms/step - loss: 1.0869 - mae: 1.0869 - val_loss: 0.9431 - val_mae: 0.9431\n",
      "Epoch 21/100\n",
      "73/73 [==============================] - 0s 1ms/step - loss: 1.0604 - mae: 1.0604 - val_loss: 0.9474 - val_mae: 0.9474\n",
      "Epoch 22/100\n",
      "73/73 [==============================] - 0s 1ms/step - loss: 1.0645 - mae: 1.0645 - val_loss: 0.9916 - val_mae: 0.9916\n",
      "Epoch 23/100\n",
      "73/73 [==============================] - 0s 1ms/step - loss: 1.1028 - mae: 1.1028 - val_loss: 0.9556 - val_mae: 0.9556\n",
      "Epoch 24/100\n",
      "73/73 [==============================] - 0s 1ms/step - loss: 1.0740 - mae: 1.0740 - val_loss: 0.9947 - val_mae: 0.9947\n",
      "Epoch 25/100\n",
      "73/73 [==============================] - 0s 1ms/step - loss: 1.0856 - mae: 1.0856 - val_loss: 1.0122 - val_mae: 1.0122\n",
      "Epoch 26/100\n",
      "73/73 [==============================] - 0s 1ms/step - loss: 1.0928 - mae: 1.0928 - val_loss: 1.0150 - val_mae: 1.0150\n",
      "Epoch 27/100\n",
      "73/73 [==============================] - 0s 1ms/step - loss: 1.1185 - mae: 1.1185 - val_loss: 1.0272 - val_mae: 1.0272\n",
      "Epoch 28/100\n",
      "73/73 [==============================] - 0s 1ms/step - loss: 1.0997 - mae: 1.0997 - val_loss: 0.9690 - val_mae: 0.9690\n",
      "Epoch 29/100\n",
      "73/73 [==============================] - 0s 1ms/step - loss: 1.0486 - mae: 1.0486 - val_loss: 0.9661 - val_mae: 0.9661\n",
      "Epoch 30/100\n",
      "73/73 [==============================] - 0s 1ms/step - loss: 1.0490 - mae: 1.0490 - val_loss: 1.0564 - val_mae: 1.0564\n",
      "Epoch 31/100\n",
      "73/73 [==============================] - 0s 2ms/step - loss: 1.0753 - mae: 1.0753 - val_loss: 0.9806 - val_mae: 0.9806\n",
      "Epoch 32/100\n",
      "73/73 [==============================] - 0s 1ms/step - loss: 1.0900 - mae: 1.0900 - val_loss: 1.0432 - val_mae: 1.0432\n",
      "Epoch 33/100\n",
      "73/73 [==============================] - 0s 2ms/step - loss: 1.0726 - mae: 1.0726 - val_loss: 1.0048 - val_mae: 1.0048\n",
      "Epoch 34/100\n",
      "73/73 [==============================] - 0s 2ms/step - loss: 1.0776 - mae: 1.0776 - val_loss: 0.9436 - val_mae: 0.9436\n",
      "Epoch 35/100\n",
      "73/73 [==============================] - 0s 2ms/step - loss: 1.0641 - mae: 1.0641 - val_loss: 0.9581 - val_mae: 0.9581\n",
      "Epoch 36/100\n",
      "73/73 [==============================] - 0s 2ms/step - loss: 1.0729 - mae: 1.0729 - val_loss: 0.9336 - val_mae: 0.9336\n",
      "Epoch 37/100\n",
      "73/73 [==============================] - 0s 2ms/step - loss: 1.0577 - mae: 1.0577 - val_loss: 0.9817 - val_mae: 0.9817\n",
      "Epoch 38/100\n",
      "73/73 [==============================] - 0s 2ms/step - loss: 1.0558 - mae: 1.0558 - val_loss: 0.9404 - val_mae: 0.9404\n",
      "Epoch 39/100\n",
      "73/73 [==============================] - 0s 2ms/step - loss: 1.0460 - mae: 1.0460 - val_loss: 0.9411 - val_mae: 0.9411\n",
      "Epoch 40/100\n",
      "73/73 [==============================] - 0s 1ms/step - loss: 1.0588 - mae: 1.0588 - val_loss: 0.9866 - val_mae: 0.9866\n",
      "Epoch 41/100\n",
      "73/73 [==============================] - 0s 2ms/step - loss: 1.0602 - mae: 1.0602 - val_loss: 0.9947 - val_mae: 0.9947\n",
      "Epoch 42/100\n",
      "73/73 [==============================] - 0s 2ms/step - loss: 1.0599 - mae: 1.0599 - val_loss: 1.0571 - val_mae: 1.0571\n",
      "Epoch 43/100\n",
      "73/73 [==============================] - 0s 2ms/step - loss: 1.0473 - mae: 1.0473 - val_loss: 0.9806 - val_mae: 0.9806\n",
      "Epoch 44/100\n",
      "73/73 [==============================] - 0s 2ms/step - loss: 1.0540 - mae: 1.0540 - val_loss: 0.9473 - val_mae: 0.9473\n",
      "Epoch 45/100\n",
      "73/73 [==============================] - 0s 2ms/step - loss: 1.0863 - mae: 1.0863 - val_loss: 0.9902 - val_mae: 0.9902\n",
      "Epoch 46/100\n",
      "73/73 [==============================] - 0s 2ms/step - loss: 1.0617 - mae: 1.0617 - val_loss: 1.0137 - val_mae: 1.0137\n",
      "Epoch 47/100\n",
      "73/73 [==============================] - 0s 2ms/step - loss: 1.0598 - mae: 1.0598 - val_loss: 0.9368 - val_mae: 0.9368\n",
      "Epoch 48/100\n",
      "73/73 [==============================] - 0s 2ms/step - loss: 1.0579 - mae: 1.0579 - val_loss: 0.9349 - val_mae: 0.9349\n",
      "Epoch 49/100\n",
      "73/73 [==============================] - 0s 2ms/step - loss: 1.0452 - mae: 1.0452 - val_loss: 0.9893 - val_mae: 0.9893\n",
      "Epoch 50/100\n",
      "73/73 [==============================] - 0s 2ms/step - loss: 1.0418 - mae: 1.0418 - val_loss: 0.9489 - val_mae: 0.9489\n",
      "Epoch 51/100\n",
      "73/73 [==============================] - 0s 2ms/step - loss: 1.0732 - mae: 1.0732 - val_loss: 1.0295 - val_mae: 1.0295\n",
      "Epoch 52/100\n",
      "73/73 [==============================] - 0s 1ms/step - loss: 1.0882 - mae: 1.0882 - val_loss: 1.0128 - val_mae: 1.0128\n",
      "Epoch 53/100\n",
      "73/73 [==============================] - 0s 1ms/step - loss: 1.0542 - mae: 1.0542 - val_loss: 0.9420 - val_mae: 0.9420\n",
      "Epoch 54/100\n",
      "73/73 [==============================] - 0s 1ms/step - loss: 1.0744 - mae: 1.0744 - val_loss: 0.9550 - val_mae: 0.9550\n",
      "Epoch 55/100\n",
      "73/73 [==============================] - 0s 1ms/step - loss: 1.0561 - mae: 1.0561 - val_loss: 1.0192 - val_mae: 1.0192\n",
      "Epoch 56/100\n",
      "73/73 [==============================] - 0s 1ms/step - loss: 1.0519 - mae: 1.0519 - val_loss: 0.9702 - val_mae: 0.9702\n",
      "Epoch 57/100\n",
      "73/73 [==============================] - 0s 1ms/step - loss: 1.0655 - mae: 1.0655 - val_loss: 0.9452 - val_mae: 0.9452\n",
      "Epoch 58/100\n",
      "73/73 [==============================] - 0s 1ms/step - loss: 1.0690 - mae: 1.0690 - val_loss: 1.0290 - val_mae: 1.0290\n",
      "Epoch 59/100\n",
      "73/73 [==============================] - 0s 1ms/step - loss: 1.0817 - mae: 1.0817 - val_loss: 0.9379 - val_mae: 0.9379\n",
      "Epoch 60/100\n",
      "73/73 [==============================] - 0s 1ms/step - loss: 1.0626 - mae: 1.0626 - val_loss: 0.9897 - val_mae: 0.9897\n",
      "Epoch 61/100\n",
      "73/73 [==============================] - 0s 1ms/step - loss: 1.0603 - mae: 1.0603 - val_loss: 0.9472 - val_mae: 0.9472\n",
      "Epoch 62/100\n",
      "73/73 [==============================] - 0s 1ms/step - loss: 1.0769 - mae: 1.0769 - val_loss: 0.9651 - val_mae: 0.9651\n",
      "Epoch 63/100\n",
      "73/73 [==============================] - 0s 1ms/step - loss: 1.1114 - mae: 1.1114 - val_loss: 1.0098 - val_mae: 1.0098\n",
      "Epoch 64/100\n",
      "73/73 [==============================] - 0s 1ms/step - loss: 1.0954 - mae: 1.0954 - val_loss: 0.9458 - val_mae: 0.9458\n",
      "Epoch 65/100\n",
      "73/73 [==============================] - 0s 1ms/step - loss: 1.0435 - mae: 1.0435 - val_loss: 0.9898 - val_mae: 0.9898\n",
      "Epoch 66/100\n",
      "73/73 [==============================] - 0s 1ms/step - loss: 1.1243 - mae: 1.1243 - val_loss: 1.0071 - val_mae: 1.0071\n",
      "Epoch 67/100\n",
      "73/73 [==============================] - 0s 2ms/step - loss: 1.0569 - mae: 1.0569 - val_loss: 0.9499 - val_mae: 0.9499\n",
      "Epoch 68/100\n",
      "73/73 [==============================] - 0s 1ms/step - loss: 1.0533 - mae: 1.0533 - val_loss: 0.9908 - val_mae: 0.9908\n",
      "Epoch 69/100\n",
      "73/73 [==============================] - 0s 1ms/step - loss: 1.0952 - mae: 1.0952 - val_loss: 0.9887 - val_mae: 0.9887\n",
      "Epoch 70/100\n",
      "73/73 [==============================] - 0s 1ms/step - loss: 1.0638 - mae: 1.0638 - val_loss: 0.9637 - val_mae: 0.9637\n",
      "Epoch 71/100\n",
      "73/73 [==============================] - 0s 1ms/step - loss: 1.0717 - mae: 1.0717 - val_loss: 0.9282 - val_mae: 0.9282\n",
      "Epoch 72/100\n",
      "73/73 [==============================] - 0s 1ms/step - loss: 1.0573 - mae: 1.0573 - val_loss: 0.9816 - val_mae: 0.9816\n",
      "Epoch 73/100\n",
      "73/73 [==============================] - 0s 1ms/step - loss: 1.0676 - mae: 1.0676 - val_loss: 0.9383 - val_mae: 0.9383\n",
      "Epoch 74/100\n",
      "73/73 [==============================] - 0s 2ms/step - loss: 1.0652 - mae: 1.0652 - val_loss: 1.0456 - val_mae: 1.0456\n",
      "Epoch 75/100\n",
      "73/73 [==============================] - 0s 2ms/step - loss: 1.0652 - mae: 1.0652 - val_loss: 0.9796 - val_mae: 0.9796\n",
      "Epoch 76/100\n",
      "73/73 [==============================] - 0s 2ms/step - loss: 1.0665 - mae: 1.0665 - val_loss: 0.9381 - val_mae: 0.9381\n",
      "Epoch 77/100\n",
      "73/73 [==============================] - 0s 2ms/step - loss: 1.0545 - mae: 1.0545 - val_loss: 0.9346 - val_mae: 0.9346\n",
      "Epoch 78/100\n",
      "73/73 [==============================] - 0s 1ms/step - loss: 1.0507 - mae: 1.0507 - val_loss: 1.0629 - val_mae: 1.0629\n",
      "Epoch 79/100\n",
      "73/73 [==============================] - 0s 1ms/step - loss: 1.0647 - mae: 1.0647 - val_loss: 0.9367 - val_mae: 0.9367\n",
      "Epoch 80/100\n",
      "73/73 [==============================] - 0s 2ms/step - loss: 1.0563 - mae: 1.0563 - val_loss: 0.9326 - val_mae: 0.9326\n",
      "Epoch 81/100\n",
      "73/73 [==============================] - 0s 2ms/step - loss: 1.0632 - mae: 1.0632 - val_loss: 1.0202 - val_mae: 1.0202\n",
      "Epoch 82/100\n",
      "73/73 [==============================] - 0s 2ms/step - loss: 1.0489 - mae: 1.0489 - val_loss: 0.9340 - val_mae: 0.9340\n",
      "Epoch 83/100\n",
      "73/73 [==============================] - 0s 2ms/step - loss: 1.0626 - mae: 1.0626 - val_loss: 0.9556 - val_mae: 0.9556\n",
      "Epoch 84/100\n",
      "73/73 [==============================] - 0s 2ms/step - loss: 1.0455 - mae: 1.0455 - val_loss: 0.9566 - val_mae: 0.9566\n",
      "Epoch 85/100\n",
      "73/73 [==============================] - 0s 2ms/step - loss: 1.0897 - mae: 1.0897 - val_loss: 0.9468 - val_mae: 0.9468\n",
      "Epoch 86/100\n",
      "73/73 [==============================] - 0s 2ms/step - loss: 1.0613 - mae: 1.0613 - val_loss: 0.9747 - val_mae: 0.9747\n",
      "Epoch 87/100\n",
      "73/73 [==============================] - 0s 2ms/step - loss: 1.0743 - mae: 1.0743 - val_loss: 0.9902 - val_mae: 0.9902\n",
      "Epoch 88/100\n",
      "73/73 [==============================] - 0s 2ms/step - loss: 1.0698 - mae: 1.0698 - val_loss: 0.9506 - val_mae: 0.9506\n",
      "Epoch 89/100\n",
      "73/73 [==============================] - 0s 1ms/step - loss: 1.0712 - mae: 1.0712 - val_loss: 1.0325 - val_mae: 1.0325\n",
      "Epoch 90/100\n",
      "73/73 [==============================] - 0s 2ms/step - loss: 1.0677 - mae: 1.0677 - val_loss: 0.9947 - val_mae: 0.9947\n",
      "Epoch 91/100\n",
      "73/73 [==============================] - 0s 1ms/step - loss: 1.0650 - mae: 1.0650 - val_loss: 0.9675 - val_mae: 0.9675\n",
      "Epoch 92/100\n",
      "73/73 [==============================] - 0s 1ms/step - loss: 1.0645 - mae: 1.0645 - val_loss: 0.9895 - val_mae: 0.9895\n",
      "Epoch 93/100\n",
      "73/73 [==============================] - 0s 1ms/step - loss: 1.0581 - mae: 1.0581 - val_loss: 0.9685 - val_mae: 0.9685\n",
      "Epoch 94/100\n",
      "73/73 [==============================] - 0s 2ms/step - loss: 1.0681 - mae: 1.0681 - val_loss: 0.9850 - val_mae: 0.9850\n",
      "Epoch 95/100\n",
      "73/73 [==============================] - 0s 1ms/step - loss: 1.0466 - mae: 1.0466 - val_loss: 0.9884 - val_mae: 0.9884\n",
      "Epoch 96/100\n",
      "73/73 [==============================] - 0s 1ms/step - loss: 1.0635 - mae: 1.0635 - val_loss: 1.0806 - val_mae: 1.0806\n",
      "Epoch 97/100\n",
      "73/73 [==============================] - 0s 2ms/step - loss: 1.0576 - mae: 1.0576 - val_loss: 0.9621 - val_mae: 0.9621\n",
      "Epoch 98/100\n",
      "73/73 [==============================] - 0s 2ms/step - loss: 1.0626 - mae: 1.0626 - val_loss: 1.1238 - val_mae: 1.1238\n",
      "Epoch 99/100\n",
      "73/73 [==============================] - 0s 1ms/step - loss: 1.0768 - mae: 1.0768 - val_loss: 0.9916 - val_mae: 0.9916\n",
      "Epoch 100/100\n",
      "73/73 [==============================] - 0s 1ms/step - loss: 1.0517 - mae: 1.0517 - val_loss: 0.9287 - val_mae: 0.9287\n"
     ]
    }
   ],
   "source": [
    "history = persuasiveness_model.fit(all_x, all_y, epochs=100, validation_split=0.2)"
   ]
  },
  {
   "cell_type": "code",
   "execution_count": 16,
   "metadata": {},
   "outputs": [
    {
     "name": "stdout",
     "output_type": "stream",
     "text": [
      "1/1 [==============================] - 0s 35ms/step\n"
     ]
    },
    {
     "data": {
      "text/plain": [
       "array([[4.0737286],\n",
       "       [4.0480556],\n",
       "       [4.0317826],\n",
       "       [4.0442758],\n",
       "       [4.051831 ],\n",
       "       [4.040819 ],\n",
       "       [4.039178 ],\n",
       "       [4.0420923],\n",
       "       [4.0452876],\n",
       "       [4.0548716]], dtype=float32)"
      ]
     },
     "execution_count": 16,
     "metadata": {},
     "output_type": "execute_result"
    }
   ],
   "source": [
    "persuasiveness_model.predict(data[:10])"
   ]
  }
 ],
 "metadata": {
  "interpreter": {
   "hash": "26de051ba29f2982a8de78e945f0abaf191376122a1563185a90213a26c5da77"
  },
  "kernelspec": {
   "display_name": "Python 3.10.4 64-bit",
   "language": "python",
   "name": "python3"
  },
  "language_info": {
   "codemirror_mode": {
    "name": "ipython",
    "version": 3
   },
   "file_extension": ".py",
   "mimetype": "text/x-python",
   "name": "python",
   "nbconvert_exporter": "python",
   "pygments_lexer": "ipython3",
   "version": "3.10.4"
  },
  "orig_nbformat": 4
 },
 "nbformat": 4,
 "nbformat_minor": 2
}
